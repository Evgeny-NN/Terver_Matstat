{
 "cells": [
  {
   "attachments": {},
   "cell_type": "markdown",
   "metadata": {},
   "source": [
    "1. Известно, что генеральная совокупность распределена нормально со средним квадратическим отклонением, равным 16. Найти доверительный интервал для оценки математического ожидания a с надежностью 0.95, если выборочная средняя M = 80, а объем выборки n = 256.\n"
   ]
  },
  {
   "cell_type": "code",
   "execution_count": 41,
   "metadata": {},
   "outputs": [],
   "source": [
    "import numpy as np\n",
    "from scipy import stats"
   ]
  },
  {
   "cell_type": "code",
   "execution_count": 32,
   "metadata": {},
   "outputs": [
    {
     "data": {
      "text/plain": [
       "(81.95996398454005, 78.04003601545995)"
      ]
     },
     "execution_count": 32,
     "metadata": {},
     "output_type": "execute_result"
    }
   ],
   "source": [
    "m = 80\n",
    "sigma = 16\n",
    "n = 256\n",
    "p = 0.95\n",
    "alpha = 0.05\n",
    "z = stats.norm.ppf(alpha/2)\n",
    "(m - z * sigma / np.sqrt(n), m + z * sigma / np.sqrt(n))"
   ]
  },
  {
   "attachments": {},
   "cell_type": "markdown",
   "metadata": {},
   "source": [
    "2. В результате 10 независимых измерений некоторой величины X, выполненных с одинаковой точностью, получены опытные данные: 6.9, 6.1, 6.2, 6.8, 7.5, 6.3, 6.4, 6.9, 6.7, 6.1 Предполагая, что результаты измерений подчинены нормальному закону распределения вероятностей, оценить истинное значение величины X при помощи доверительного интервала, покрывающего это значение с доверительной вероятностью 0,95."
   ]
  },
  {
   "cell_type": "code",
   "execution_count": 33,
   "metadata": {},
   "outputs": [
    {
     "name": "stdout",
     "output_type": "stream",
     "text": [
      "6.267515851415713 6.912484148584288\n"
     ]
    }
   ],
   "source": [
    "array = [6.9, 6.1, 6.2, 6.8, 7.5, 6.3, 6.4, 6.9, 6.7, 6.1]\n",
    "n = len(array)\n",
    "x = np.mean(array)\n",
    "\n",
    "a = 0.05\n",
    "sigma = np.std(array, ddof=1)\n",
    "\n",
    "stats = stats.t.ppf( 1-a/2, n-1)\n",
    "\n",
    "l_border=x-stats*sigma/np.sqrt(n)\n",
    "r_border=x+stats*sigma/np.sqrt(n)\n",
    "print(l_border, r_border)"
   ]
  },
  {
   "attachments": {},
   "cell_type": "markdown",
   "metadata": {},
   "source": [
    "3.Рост дочерей 175, 167, 154, 174, 178, 148, 160, 167, 169, 170 Рост матерей  178, 165, 165, 173, 168, 155, 160, 164, 178, 175 Используя эти данные построить 95% доверительный интервал для разности среднего роста родителей и детей."
   ]
  },
  {
   "cell_type": "code",
   "execution_count": 40,
   "metadata": {},
   "outputs": [
    {
     "name": "stdout",
     "output_type": "stream",
     "text": [
      "Доверительный интервал: (-10.068418034506857, 6.268418034506846)\n"
     ]
    }
   ],
   "source": [
    "a = np.array([175, 167, 154, 174, 178, 148, 160, 167, 169, 170])\n",
    "b = np.array([178, 165, 165, 173, 168, 155, 160, 164, 178, 175])\n",
    "x_1 = np.mean(a)\n",
    "x_2 = np.mean(b)\n",
    "delta = x_1 - x_2\n",
    "n = len(a)\n",
    "D1 = np.var(a, ddof = 1)\n",
    "D2 = np.var(b, ddof = 1)\n",
    "\n",
    "D = (D1 + D2) / 2\n",
    "SE = np.sqrt(D/n + D/n)\n",
    "\n",
    "t = stats.t.ppf(0.975, 2 * (n - 1))\n",
    "\n",
    "result = (delta - t*SE, delta + t*SE)\n",
    "print(result)"
   ]
  }
 ],
 "metadata": {
  "kernelspec": {
   "display_name": "Python 3",
   "language": "python",
   "name": "python3"
  },
  "language_info": {
   "codemirror_mode": {
    "name": "ipython",
    "version": 3
   },
   "file_extension": ".py",
   "mimetype": "text/x-python",
   "name": "python",
   "nbconvert_exporter": "python",
   "pygments_lexer": "ipython3",
   "version": "3.11.2"
  },
  "orig_nbformat": 4
 },
 "nbformat": 4,
 "nbformat_minor": 2
}
