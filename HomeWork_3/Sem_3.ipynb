{
 "cells": [
  {
   "cell_type": "code",
   "execution_count": 37,
   "metadata": {},
   "outputs": [],
   "source": [
    "import numpy as np\n",
    "import pandas as pd\n",
    "from math import factorial as fl\n",
    "def combinations(n, k):\n",
    "    return (fl(n) / (fl(k) * fl(n - k))) "
   ]
  },
  {
   "attachments": {},
   "cell_type": "markdown",
   "metadata": {},
   "source": [
    "1. Даны значения зарплат из выборки выпускников: 100, 80, 75, 77, 89, 33, 45, 25, 65, 17, 30, 24, 57, 55, 70, 75, 65, 84, 90, 150. Посчитать (желательно без использования статистических методов наподобие std, var, mean) среднее арифметическое, среднее квадратичное отклонение, смещенную и несмещенную оценки дисперсий для данной выборки."
   ]
  },
  {
   "cell_type": "code",
   "execution_count": 38,
   "metadata": {},
   "outputs": [
    {
     "name": "stdout",
     "output_type": "stream",
     "text": [
      "Среднее арифметическое = 73.14285714285714\n",
      "Стандартное отклонение = 46.206869943028735\n",
      "Смещённая дисперсия = 2135.0748299319725\n",
      "Смещённая дисперсия = 2241.828571428571\n"
     ]
    }
   ],
   "source": [
    "array = [100, 80, 75, 77, 89, 33, 45, 25, 65, 17, 30, 230, 24, 57, 55, 70, 75, 65, 84, 90, 150]\n",
    "res_srednee_arifm =sum(array) / len(array)\n",
    "print(f'Среднее арифметическое = {res_srednee_arifm}')\n",
    "std_otklonenie = np.std(array)\n",
    "print(f'Стандартное отклонение = {std_otklonenie}')\n",
    "sm_dispersiya = np.var(array)\n",
    "print(f'Смещённая дисперсия = {sm_dispersiya}')\n",
    "nesm_dispersiya = np.var(array, ddof=1)\n",
    "print(f'Смещённая дисперсия = {nesm_dispersiya}')"
   ]
  },
  {
   "attachments": {},
   "cell_type": "markdown",
   "metadata": {},
   "source": [
    "2. В первом ящике находится 8 мячей, из которых 5 - белые. Во втором ящике - 12 мячей, из которых 5 белых. Из первого ящика вытаскивают случайным образом два мяча, из второго - 4. Какова вероятность того, что 3 мяча белые?"
   ]
  },
  {
   "cell_type": "code",
   "execution_count": 39,
   "metadata": {},
   "outputs": [
    {
     "name": "stdout",
     "output_type": "stream",
     "text": [
      "Вероятность, что 3 мяча белые =  36.9\n"
     ]
    }
   ],
   "source": [
    "def combinations(n, k):\n",
    "    return (fl(n) / (fl(k) * fl(n - k))) \n",
    "p1 = combinations(5, 2) / combinations(8, 2) * combinations(5, 1) * combinations(7, 3) / combinations(12, 4)\n",
    "p2 = combinations(5, 1) * combinations(3, 1) / combinations(8, 2) * combinations(5, 2) * combinations(7, 2) / combinations(12, 4)\n",
    "p3 = combinations(3, 2) / combinations(8, 2) * combinations(5, 3) * combinations(7, 1) / combinations(12, 4)\n",
    "result = p1 + p2 + p3\n",
    "print(f'Вероятность, что 3 мяча белые = {result * 100: .1f}')"
   ]
  },
  {
   "attachments": {},
   "cell_type": "markdown",
   "metadata": {},
   "source": [
    "3. На соревновании по биатлону один из трех спортсменов стреляет и попадает в мишень. Вероятность попадания для первого спортсмена равна 0.9, для второго — 0.8, для третьего — 0.6. Найти вероятность того, что выстрел произведен: a). первым спортсменом б). вторым спортсменом в). третьим спортсменом.\n"
   ]
  },
  {
   "cell_type": "code",
   "execution_count": 40,
   "metadata": {},
   "outputs": [
    {
     "name": "stdout",
     "output_type": "stream",
     "text": [
      "первым спортсменом:  39.1\n",
      "вторым спортсменом:  34.8\n",
      "третьим спортсменом:  26.1\n"
     ]
    }
   ],
   "source": [
    "p = 1/3 * 0.9 + 1/3 * 0.8 + 1/3 * 0.6 \n",
    "\n",
    "res1 = 1/3 * 0.9 / p\n",
    "res2 = 1/3 * 0.8 / p\n",
    "res3 = 1/3 * 0.6 / p\n",
    "print(f\"первым спортсменом: {res1 * 100: .1f}\")\n",
    "print(f\"вторым спортсменом: {res2 * 100: .1f}\")\n",
    "print(f\"третьим спортсменом: {res3 * 100: .1f}\")"
   ]
  },
  {
   "attachments": {},
   "cell_type": "markdown",
   "metadata": {},
   "source": [
    "4. В университет на факультеты A и B поступило равное количество студентов, а на факультет C студентов поступило столько же, сколько на A и B вместе. Вероятность того, что студент факультета A сдаст первую сессию, равна 0.8. Для студента факультета B эта вероятность равна 0.7, а для студента факультета C - 0.9. Студент сдал первую сессию. Какова вероятность, что он учится: a). на факультете A б). на факультете B в). на факультете C?"
   ]
  },
  {
   "cell_type": "code",
   "execution_count": 41,
   "metadata": {},
   "outputs": [
    {
     "name": "stdout",
     "output_type": "stream",
     "text": [
      "факульт_А:  24.2\n",
      "факульт_В:  21.2\n",
      "факульт_С:  54.5\n"
     ]
    }
   ],
   "source": [
    "p = 1/4 * 0.8 + 1/4 * 0.7 + 2/4 * 0.9\n",
    "\n",
    "res1 = 1/4 * 0.8 / p\n",
    "res2 = 1/4 * 0.7 / p\n",
    "res3 = 2/4 * 0.9 / p\n",
    "print(f\"факульт_А: {res1 * 100: .1f}\")\n",
    "print(f\"факульт_В: {res2 * 100: .1f}\")\n",
    "print(f\"факульт_С: {res3 * 100: .1f}\")"
   ]
  },
  {
   "cell_type": "markdown",
   "metadata": {},
   "source": [
    "5. Устройство состоит из трех деталей. Для первой детали вероятность выйти из строя в первый месяц равна 0.1, для второй - 0.2, для третьей - 0.25. Какова вероятность того, что в первый месяц выйдут из строя: а). все детали б). только две детали в). хотя бы одна деталь г). от одной до двух деталей?"
   ]
  },
  {
   "cell_type": "code",
   "execution_count": 42,
   "metadata": {},
   "outputs": [
    {
     "name": "stdout",
     "output_type": "stream",
     "text": [
      "все детали:  0.5\n",
      "только две детали:  8.0\n",
      "хотя бы одна деталь:  46.0\n",
      "от одной до двух деталей:  45.5\n"
     ]
    }
   ],
   "source": [
    "p1 = 0.1\n",
    "p2 = 0.2\n",
    "p3 = 0.25\n",
    "\n",
    "q1 = 1 - p1\n",
    "q2 = 1 - p2\n",
    "q3 = 1 - p3\n",
    "\n",
    "\n",
    "res1 = p1 * p2 * p3\n",
    "res2 = p1 * p2 * q3  +  p1 * q2 * p3  +  q1 * p2 * p3\n",
    "res3 = 1 - q1 * q2 * q3\n",
    "res4 = p1 * q2 * q3  +  q1 * p2 * q3  +  q1 * q2 * p3 + res2\n",
    "print(f\"все детали: {res1 * 100: .1f}\")\n",
    "print(f\"только две детали: {res2 * 100: .1f}\")\n",
    "print(f\"хотя бы одна деталь: {res3 * 100: .1f}\")\n",
    "print(f\"от одной до двух деталей: {res4 * 100: .1f}\")"
   ]
  }
 ],
 "metadata": {
  "kernelspec": {
   "display_name": "Python 3",
   "language": "python",
   "name": "python3"
  },
  "language_info": {
   "codemirror_mode": {
    "name": "ipython",
    "version": 3
   },
   "file_extension": ".py",
   "mimetype": "text/x-python",
   "name": "python",
   "nbconvert_exporter": "python",
   "pygments_lexer": "ipython3",
   "version": "3.11.2"
  },
  "orig_nbformat": 4
 },
 "nbformat": 4,
 "nbformat_minor": 2
}
