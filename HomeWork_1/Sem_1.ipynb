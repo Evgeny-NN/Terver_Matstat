{
 "cells": [
  {
   "attachments": {},
   "cell_type": "markdown",
   "metadata": {},
   "source": [
    "1. Из колоды в 52 карты извлекаются случайным образом 4 карты. \n",
    "a) Найти вероятность того, что все карты – крести. \n",
    "б) Найти вероятность, что среди 4-х карт окажется хотя бы один туз."
   ]
  },
  {
   "cell_type": "code",
   "execution_count": 10,
   "metadata": {},
   "outputs": [],
   "source": [
    "from math import factorial as fl\n",
    "def combinations(n, k):\n",
    "    return (fl(n) / (fl(k) * fl(n - k))) "
   ]
  },
  {
   "cell_type": "code",
   "execution_count": 11,
   "metadata": {},
   "outputs": [
    {
     "name": "stdout",
     "output_type": "stream",
     "text": [
      "m = 715.0\n",
      "n = 270725.0\n",
      "P(все крести) = 0.26 %\n",
      "n = 270725.0\n",
      "m = 96565.0\n",
      "P(хотя бы 1 туз) = 35.67 %\n"
     ]
    }
   ],
   "source": [
    "# Карт одной масти 52/4 = 13\n",
    "m=combinations(13, 4) # Благоприятный исход\n",
    "print(f'm = {m}')\n",
    "n=combinations(52, 4) # Общий исход\n",
    "print(f'n = {n}')\n",
    "P=m/n # Вероятность общая что все крести\n",
    "print(f'P(все крести) = {round(P,4)*100} %')\n",
    "\n",
    "# б) Найти вероятность, что среди 4-х карт окажется хотя бы один туз.\n",
    "n=combinations(52, 4) # Общий исход\n",
    "print(f'n = {n}')\n",
    "# m - Общее число благоприятных исходов-сумма этих 4 вариантов.\n",
    "m=sum([combinations(4,1)*combinations(52,3),combinations(4,2)*combinations(52,2),\n",
    "       combinations(4,3)*combinations(52,1),combinations(4,4)])\n",
    "print(f'm = {m}')\n",
    "P = m / n # Общая вероятность вынуть 1 туз\n",
    "print(f'P(хотя бы 1 туз) = {round(P,4)*100} %')\n"
   ]
  },
  {
   "attachments": {},
   "cell_type": "markdown",
   "metadata": {},
   "source": [
    "2. На входной двери подъезда установлен кодовый замок, содержащий десять кнопок с цифрами от 0 до 9. Код содержит три цифры, которые нужно нажать одновременно. Какова вероятность того, что человек, не знающий код, откроет дверь с первой попытки?"
   ]
  },
  {
   "cell_type": "code",
   "execution_count": 12,
   "metadata": {},
   "outputs": [
    {
     "name": "stdout",
     "output_type": "stream",
     "text": [
      "P(открыть с первой попытки в %) = 0.83 %\n"
     ]
    }
   ],
   "source": [
    "\n",
    "m = 1 # Благоприятный исход может быть только один\n",
    "n = combinations(10,3) # Общий исход\n",
    "P = m / n # Вероятность открыть с первой попытки\n",
    "print(f'P(открыть с первой попытки в %) = {round(P,4)*100} %')"
   ]
  },
  {
   "attachments": {},
   "cell_type": "markdown",
   "metadata": {},
   "source": [
    "3. В ящике имеется 15 деталей, из которых 9 окрашены. Рабочий случайным образом извлекает 3 детали. Какова вероятность того, что все извлеченные детали окрашены?"
   ]
  },
  {
   "cell_type": "code",
   "execution_count": 13,
   "metadata": {},
   "outputs": [
    {
     "name": "stdout",
     "output_type": "stream",
     "text": [
      "18.46\n"
     ]
    }
   ],
   "source": [
    "m = combinations(9,3) # Благоприятный исход может быть только один\n",
    "n = combinations(15,3) # Общий исход\n",
    "P =  m / n # вероятность того, что все извлеченные детали окрашены\n",
    "\n",
    "print(round(P*100,2))"
   ]
  },
  {
   "attachments": {},
   "cell_type": "markdown",
   "metadata": {},
   "source": [
    "4. В лотерее 100 билетов. Из них 2 выигрышных. Какова вероятность того, что 2 приобретенных билета окажутся выигрышными?"
   ]
  },
  {
   "cell_type": "code",
   "execution_count": 17,
   "metadata": {},
   "outputs": [
    {
     "name": "stdout",
     "output_type": "stream",
     "text": [
      "Оба  билета выигрышных = 0.02 %\n"
     ]
    }
   ],
   "source": [
    "m = combinations(2, 2) # Благоприятный исход\n",
    "n = combinations(100, 2) # Общий исход\n",
    "P =  m / n # вероятность того, что все извлеченные детали окрашены\n",
    "\n",
    "print(f'Оба  билета выигрышных = {round(P,4)*100} %')"
   ]
  }
 ],
 "metadata": {
  "kernelspec": {
   "display_name": "Python 3",
   "language": "python",
   "name": "python3"
  },
  "language_info": {
   "codemirror_mode": {
    "name": "ipython",
    "version": 3
   },
   "file_extension": ".py",
   "mimetype": "text/x-python",
   "name": "python",
   "nbconvert_exporter": "python",
   "pygments_lexer": "ipython3",
   "version": "3.11.2"
  },
  "orig_nbformat": 4
 },
 "nbformat": 4,
 "nbformat_minor": 2
}
